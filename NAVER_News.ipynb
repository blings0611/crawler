{
 "cells": [
  {
   "cell_type": "markdown",
   "metadata": {},
   "source": [
    "## 네이버 뉴스기사 크롤링"
   ]
  },
  {
   "cell_type": "code",
   "execution_count": 1,
   "metadata": {},
   "outputs": [],
   "source": [
    "# Library Import\n",
    "import requests\n",
    "from bs4 import BeautifulSoup\n",
    "from selenium import webdriver\n",
    "import sys, os\n",
    "from tqdm import tqdm\n",
    "from openpyxl import Workbook"
   ]
  },
  {
   "cell_type": "code",
   "execution_count": 2,
   "metadata": {},
   "outputs": [],
   "source": [
    "# 저장할 엑셀 파일 생성하기\n",
    "# Workbook 생성\n",
    "wb = Workbook()\n",
    "\n",
    "# Sheet 활성\n",
    "sheet = wb.active\n",
    "\n",
    "# 데이터프레임 내 header(변수명)생성\n",
    "sheet.append([\"title\", \"date\", \"content\", \"link\"])"
   ]
  },
  {
   "cell_type": "code",
   "execution_count": 3,
   "metadata": {},
   "outputs": [],
   "source": [
    "# 정보 입력하기\n",
    "SEARCH_WORD = '스마트팜'\n",
    "START_DATE = '2020.01.01'\n",
    "END_DATE = '2020.12.31'\n",
    "START_DATE_2 = '20200101'\n",
    "END_DATE_2 = '20201231'"
   ]
  },
  {
   "source": [
    "# url format 지정\n",
    "url_format = 'https://search.naver.com/search.naver?&where=news&query={0}&sm=tab_pge&sort=0&photo=0&field=0&reporter_article=&pd=3&ds={1}&de={2}&docid=&nso=so:r,p:from{3}to{4},a:all&mynews=0&cluster_rank=34&start={5}'"
   ],
   "cell_type": "code",
   "metadata": {},
   "execution_count": 4,
   "outputs": []
  },
  {
   "cell_type": "code",
   "execution_count": 5,
   "metadata": {
    "tags": []
   },
   "outputs": [
    {
     "output_type": "stream",
     "name": "stderr",
     "text": [
      "100%|██████████| 500/500 [15:36<00:00,  1.87s/it]\n"
     ]
    }
   ],
   "source": [
    "# 안티 크롤링 방지\n",
    "headers={\"User-Agent\": \"Mozilla/5.0\"}\n",
    "\n",
    "\n",
    "# 페이지 크롤링\n",
    "for page_number in tqdm(range(500)):\n",
    "    r = requests.get(url_format.format(SEARCH_WORD, START_DATE, END_DATE, START_DATE_2, END_DATE_2, str(page_number*10+1)),  headers=headers)\n",
    "    sp = BeautifulSoup(r.text, 'html.parser')\n",
    "    sources = sp.select('div.group_news > ul.list_news > li div.news_area > div.news_info > div.info_group > a.info')\n",
    "\n",
    "    # 뉴스 기사 크롤링 : 네이버 뉴스만\n",
    "    naver_sources = []\n",
    "    for source in sources:\n",
    "        if 'https://news.naver.com/' in source.attrs['href']:\n",
    "            (naver_sources).append(source.attrs['href'])\n",
    "    for source in naver_sources:\n",
    "        news_r = requests.get(source, headers=headers)\n",
    "        news_sp = BeautifulSoup(news_r.text, 'html.parser')\n",
    "\n",
    "        container = news_sp.select('td.content > div#main_content')\n",
    "        for con in container:\n",
    "            t = con.select_one(\"div.article_header > div.article_info > h3#articleTitle\").text.strip() # title\n",
    "            d = con.select_one(\"div.article_header > div.article_info > div.sponsor > span.t11\").text.strip() # date\n",
    "            c = con.select_one(\"div.article_body > div#articleBodyContents\").text.strip() # content\n",
    "            l = source # link\n",
    "\n",
    "        # sheet 내 각 행에 데이터 추가\n",
    "        sheet.append([t, d, c, l])\n",
    "\n",
    "        # 수집한 데이터 저장\n",
    "        wb.save(\"smartFarm_2020_new.xlsx\")"
   ]
  }
 ],
 "metadata": {
  "kernelspec": {
   "name": "python379jvsc74a57bd042588fd11209419b7c81abe23e31a1d2101f60811b02170c268e57ebb57d5d9a",
   "display_name": "Python 3.7.9 64-bit ('base': conda)"
  },
  "language_info": {
   "codemirror_mode": {
    "name": "ipython",
    "version": 3
   },
   "file_extension": ".py",
   "mimetype": "text/x-python",
   "name": "python",
   "nbconvert_exporter": "python",
   "pygments_lexer": "ipython3",
   "version": "3.7.9"
  }
 },
 "nbformat": 4,
 "nbformat_minor": 4
}